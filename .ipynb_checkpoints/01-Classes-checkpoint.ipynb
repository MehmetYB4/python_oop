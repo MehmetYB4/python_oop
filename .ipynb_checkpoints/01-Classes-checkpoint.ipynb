{
 "cells": [
  {
   "cell_type": "markdown",
   "id": "74d9190b-8353-4838-9722-bb4398bbcca8",
   "metadata": {},
   "source": [
    "## *Sınıflar*"
   ]
  },
  {
   "cell_type": "code",
   "execution_count": 14,
   "id": "e2bfb6f1-3cf8-4cb1-af8a-a62a363d3124",
   "metadata": {},
   "outputs": [],
   "source": [
    "class Employee(object):\n",
    "    #attribute \n",
    "    #behaviour\n",
    "    pass\n",
    "\n",
    "\n",
    "john = Employee()"
   ]
  },
  {
   "cell_type": "markdown",
   "id": "4ddd6d0b-659e-4bf1-a758-ea1db3a889b6",
   "metadata": {},
   "source": [
    "### attribute"
   ]
  },
  {
   "cell_type": "code",
   "execution_count": 29,
   "id": "e6096f73-0d6e-4869-b18e-1b491a504fd6",
   "metadata": {},
   "outputs": [
    {
     "name": "stdout",
     "output_type": "stream",
     "text": [
      "<__main__.Footballer object at 0x0000015D0F02D6A0>\n",
      "real_madrid\n",
      "30\n"
     ]
    }
   ],
   "source": [
    "class Footballer:\n",
    "\n",
    "    football_club=\"real_madrid\"\n",
    "    age = 30\n",
    "\n",
    "f1=Footballer()\n",
    "print(f1)\n",
    "print(f1.football_club)\n",
    "print(f1.age)"
   ]
  },
  {
   "cell_type": "code",
   "execution_count": 33,
   "id": "117bf089-a99f-4eb4-bf6d-cab339c871f4",
   "metadata": {},
   "outputs": [
    {
     "name": "stdout",
     "output_type": "stream",
     "text": [
      "Juventus\n"
     ]
    }
   ],
   "source": [
    "f1.football_club=\"Juventus\"\n",
    "print(f1.football_club)"
   ]
  },
  {
   "cell_type": "markdown",
   "id": "e23afd64-c328-4b8c-81a3-5db7a59551a9",
   "metadata": {},
   "source": [
    "### behaviour"
   ]
  },
  {
   "cell_type": "code",
   "execution_count": 70,
   "id": "f8072cbd-e533-42b3-93e1-174fe5e6a4ef",
   "metadata": {},
   "outputs": [
    {
     "name": "stdout",
     "output_type": "stream",
     "text": [
      "<__main__.Square object at 0x0000015D109DA210>\n",
      "5\n",
      "Area:  25\n",
      "Area:  64\n"
     ]
    }
   ],
   "source": [
    "class Square(object):\n",
    "    edge=5\n",
    "    area=0\n",
    "\n",
    "    def area_(self):\n",
    "        self.area = self.edge * self.edge\n",
    "        print(\"Area: \", self.area)\n",
    "        \n",
    "\n",
    "s1=Square()\n",
    "print(s1)\n",
    "print(s1.edge)\n",
    "s1.area_()\n",
    "\n",
    "s1.edge=8\n",
    "s1.area_()"
   ]
  },
  {
   "cell_type": "code",
   "execution_count": null,
   "id": "a2564219-8b78-4f07-b6e4-f6c0b5a8ab86",
   "metadata": {},
   "outputs": [],
   "source": []
  }
 ],
 "metadata": {
  "kernelspec": {
   "display_name": "Python 3 (ipykernel)",
   "language": "python",
   "name": "python3"
  },
  "language_info": {
   "codemirror_mode": {
    "name": "ipython",
    "version": 3
   },
   "file_extension": ".py",
   "mimetype": "text/x-python",
   "name": "python",
   "nbconvert_exporter": "python",
   "pygments_lexer": "ipython3",
   "version": "3.12.4"
  }
 },
 "nbformat": 4,
 "nbformat_minor": 5
}
