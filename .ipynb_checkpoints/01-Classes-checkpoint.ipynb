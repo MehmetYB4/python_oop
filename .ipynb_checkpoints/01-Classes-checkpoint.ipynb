{
 "cells": [
  {
   "cell_type": "markdown",
   "id": "74d9190b-8353-4838-9722-bb4398bbcca8",
   "metadata": {},
   "source": [
    "## *Sınıflar*"
   ]
  },
  {
   "cell_type": "code",
   "execution_count": 14,
   "id": "e2bfb6f1-3cf8-4cb1-af8a-a62a363d3124",
   "metadata": {},
   "outputs": [],
   "source": [
    "class Employee(object):\n",
    "    #attribute \n",
    "    #behaviour\n",
    "    pass\n",
    "\n",
    "\n",
    "john = Employee()"
   ]
  },
  {
   "cell_type": "markdown",
   "id": "4ddd6d0b-659e-4bf1-a758-ea1db3a889b6",
   "metadata": {},
   "source": [
    "### attribute"
   ]
  },
  {
   "cell_type": "code",
   "execution_count": 29,
   "id": "e6096f73-0d6e-4869-b18e-1b491a504fd6",
   "metadata": {},
   "outputs": [
    {
     "name": "stdout",
     "output_type": "stream",
     "text": [
      "<__main__.Footballer object at 0x0000015D0F02D6A0>\n",
      "real_madrid\n",
      "30\n"
     ]
    }
   ],
   "source": [
    "class Footballer:\n",
    "\n",
    "    football_club=\"real_madrid\"\n",
    "    age = 30\n",
    "\n",
    "f1=Footballer()\n",
    "print(f1)\n",
    "print(f1.football_club)\n",
    "print(f1.age)"
   ]
  },
  {
   "cell_type": "code",
   "execution_count": 33,
   "id": "117bf089-a99f-4eb4-bf6d-cab339c871f4",
   "metadata": {},
   "outputs": [
    {
     "name": "stdout",
     "output_type": "stream",
     "text": [
      "Juventus\n"
     ]
    }
   ],
   "source": [
    "f1.football_club=\"Juventus\"\n",
    "print(f1.football_club)"
   ]
  },
  {
   "cell_type": "markdown",
   "id": "e23afd64-c328-4b8c-81a3-5db7a59551a9",
   "metadata": {},
   "source": [
    "### behaviour"
   ]
  },
  {
   "cell_type": "code",
   "execution_count": 70,
   "id": "f8072cbd-e533-42b3-93e1-174fe5e6a4ef",
   "metadata": {},
   "outputs": [
    {
     "name": "stdout",
     "output_type": "stream",
     "text": [
      "<__main__.Square object at 0x0000015D109DA210>\n",
      "5\n",
      "Area:  25\n",
      "Area:  64\n"
     ]
    }
   ],
   "source": [
    "class Square(object):\n",
    "    edge=5\n",
    "    area=0\n",
    "\n",
    "    def area_(self):\n",
    "        self.area = self.edge * self.edge\n",
    "        print(\"Area: \", self.area)\n",
    "        \n",
    "\n",
    "s1=Square()\n",
    "print(s1)\n",
    "print(s1.edge)\n",
    "s1.area_()\n",
    "\n",
    "s1.edge=8\n",
    "s1.area_()"
   ]
  },
  {
   "cell_type": "markdown",
   "id": "9a092b80-34f1-44eb-b719-acaa7f07f368",
   "metadata": {},
   "source": [
    "### methods vs functions"
   ]
  },
  {
   "cell_type": "code",
   "execution_count": 14,
   "id": "9655be71-b48b-402a-8948-41a0c4d710b8",
   "metadata": {},
   "outputs": [
    {
     "name": "stdout",
     "output_type": "stream",
     "text": [
      "methods:  0.025\n",
      "function:  0.025\n"
     ]
    }
   ],
   "source": [
    "class Emp(object):\n",
    "    age=25\n",
    "    salary=1000\n",
    "\n",
    "    def ageSalaryRatio(self): #methods\n",
    "        print(\"methods: \",self.age / self.salary)\n",
    "\n",
    "def ageSalaryRatio(age,salary): #function\n",
    "    print(\"function: \",age/salary)\n",
    "\n",
    "e1=Emp()\n",
    "e1.ageSalaryRatio()\n",
    "\n",
    "ageSalaryRatio(e1.age,e1.salary)"
   ]
  },
  {
   "cell_type": "markdown",
   "id": "121ad85f-aa50-492c-9e61-e91b12a61233",
   "metadata": {},
   "source": [
    "### constructor"
   ]
  },
  {
   "cell_type": "code",
   "execution_count": 42,
   "id": "79058fd9-1702-4a04-9b58-cb623e57ef57",
   "metadata": {},
   "outputs": [
    {
     "name": "stdout",
     "output_type": "stream",
     "text": [
      "animal name: cat\n",
      "animal age: 3\n",
      "\n",
      "animal name: tiger\n",
      "animal age: 9\n"
     ]
    }
   ],
   "source": [
    "class Animal(object):\n",
    "    def __init__(self,name,age):\n",
    "        self.name = name\n",
    "        self.age = age\n",
    "\n",
    "            \n",
    "        \n",
    "        \n",
    "a1=Animal(\"cat\",3)\n",
    "print(\"animal name:\",a1.name)\n",
    "print(\"animal age:\",a1.age)\n",
    "\n",
    "a2=Animal(\"tiger\",9)\n",
    "print(\"\\nanimal name:\",a2.name)\n",
    "print(\"animal age:\",a2.age)"
   ]
  },
  {
   "cell_type": "markdown",
   "id": "16d8162b-af5f-4bc6-b50d-9d9c7a3378b6",
   "metadata": {},
   "source": [
    "### calculator project"
   ]
  },
  {
   "cell_type": "code",
   "execution_count": 87,
   "id": "8ae2f83c-49e3-41f6-834f-c45af87d2458",
   "metadata": {},
   "outputs": [
    {
     "name": "stdout",
     "output_type": "stream",
     "text": [
      "Add: 23 , Multp: 120 , Div: 0.5333333333333333\n"
     ]
    }
   ],
   "source": [
    "class Calculator(object):\n",
    "    def __init__(self,x,y):\n",
    "        \"initalize values\"\n",
    "        self.x=x\n",
    "        self.y=y\n",
    "\n",
    "    def summation(self):\n",
    "        return self.x + self.y\n",
    "\n",
    "    def multiplication(self):\n",
    "        return self.x * self.y\n",
    "\n",
    "    def division(self):\n",
    "        return float(self.x/self.y)\n",
    "\n",
    "\n",
    "v1=8\n",
    "v2=15\n",
    "c1=Calculator(v1,v2)\n",
    "\n",
    "print(\"Add: {} , Multp: {} , Div: {}\".format(c1.summation(), c1.multiplication(),c1.division()))"
   ]
  },
  {
   "cell_type": "code",
   "execution_count": 94,
   "id": "73657b28-52e3-4f1a-80bb-56d83f9ff41c",
   "metadata": {},
   "outputs": [
    {
     "name": "stdin",
     "output_type": "stream",
     "text": [
      "v1 ve değerini giriniz: 80\n",
      "v2 ve değerini giriniz: 50\n"
     ]
    },
    {
     "name": "stdout",
     "output_type": "stream",
     "text": [
      "Add: 130 , Multp: 4000 , Div: 1.6\n"
     ]
    },
    {
     "name": "stdin",
     "output_type": "stream",
     "text": [
      "CHOOSE [1]sum [2]multp [3]div  chouse-----> 5\n"
     ]
    },
    {
     "name": "stdout",
     "output_type": "stream",
     "text": [
      "Error there is no proper selection\n"
     ]
    }
   ],
   "source": [
    "v1=int(input(\"v1 ve değerini giriniz:\"))\n",
    "v2=int(input(\"v2 ve değerini giriniz:\"))\n",
    "\n",
    "c=Calculator(v1,v2)\n",
    "print(\"Add: {} , Multp: {} , Div: {}\".format(c.summation(), c.multiplication(),c.division()))\n",
    "temp=int(input(\"CHOOSE [1]sum [2]multp [3]div  chouse----->\"))\n",
    "if temp == 1:\n",
    "    print(c.summation())\n",
    "elif temp==2:\n",
    "    print(c.multiplication())\n",
    "elif temp==3:\n",
    "    print(c.division())\n",
    "else:\n",
    "    print(\"Error there is no proper selection\")"
   ]
  },
  {
   "cell_type": "markdown",
   "id": "d7bbb6c7-63f6-42ca-aa96-f36b94d413db",
   "metadata": {},
   "source": [
    "### encapsulation"
   ]
  },
  {
   "cell_type": "code",
   "execution_count": 118,
   "id": "63819a1f-2289-449c-a138-15f6a47c2d0c",
   "metadata": {},
   "outputs": [
    {
     "name": "stdout",
     "output_type": "stream",
     "text": [
      "p1: 1000\n",
      "p1: 6000\n"
     ]
    }
   ],
   "source": [
    "class BankAccount(object):\n",
    "    def __init__(self,name,money,address):\n",
    "        self.name=name  #global\n",
    "        self.__money=money #private\n",
    "        self.address=address\n",
    "\n",
    "    def get_money(self):\n",
    "        return self.__money\n",
    "    def set_money(self,amount):\n",
    "        self.__money=amount\n",
    "\n",
    "    def __incrase(self): \n",
    "        \"private methods\"\n",
    "        self.__money=self.__money+500\n",
    "\n",
    "p1=BankAccount(\"john\",1000,\"new york city\")\n",
    "p2=BankAccount(\"alish\",2000,\"las vegas\")\n",
    "\n",
    "print(\"p1:\",p1.get_money())\n",
    "p1.set_money(6000)\n",
    "print(\"p1:\",p1.get_money())"
   ]
  },
  {
   "cell_type": "code",
   "execution_count": 126,
   "id": "6eb34e5d-9881-4674-a7f1-e48cedda8ae0",
   "metadata": {},
   "outputs": [
    {
     "name": "stdin",
     "output_type": "stream",
     "text": [
      "Lütfen adınızı giriniz: Mehmet\n",
      "Lütfen paranızı giriniz 200\n",
      "Lütfen adresinizi giriniz tokyo\n"
     ]
    },
    {
     "name": "stdout",
     "output_type": "stream",
     "text": [
      "[1]Para Çek, [2]Para Yatır, [3]İşlemi Sonlandır\n"
     ]
    },
    {
     "name": "stdin",
     "output_type": "stream",
     "text": [
      "Seçim yapınız 2\n",
      "Yatırılacak miktar:  780\n"
     ]
    },
    {
     "name": "stdout",
     "output_type": "stream",
     "text": [
      "780 miktarında para yatırıldı. Yeni bakiye: 980\n",
      "[1]Para Çek, [2]Para Yatır, [3]İşlemi Sonlandır\n"
     ]
    },
    {
     "name": "stdin",
     "output_type": "stream",
     "text": [
      "Seçim yapınız 2\n",
      "Yatırılacak miktar:  440\n"
     ]
    },
    {
     "name": "stdout",
     "output_type": "stream",
     "text": [
      "440 miktarında para yatırıldı. Yeni bakiye: 1420\n",
      "[1]Para Çek, [2]Para Yatır, [3]İşlemi Sonlandır\n"
     ]
    },
    {
     "name": "stdin",
     "output_type": "stream",
     "text": [
      "Seçim yapınız 1\n",
      "çekilecek miktar 150\n"
     ]
    },
    {
     "name": "stdout",
     "output_type": "stream",
     "text": [
      "150 miktarında para çekildi. Kalan bakiye: 1270\n",
      "[1]Para Çek, [2]Para Yatır, [3]İşlemi Sonlandır\n"
     ]
    },
    {
     "name": "stdin",
     "output_type": "stream",
     "text": [
      "Seçim yapınız 3\n"
     ]
    },
    {
     "name": "stdout",
     "output_type": "stream",
     "text": [
      "İşlem sonlandırıldı.\n",
      "Mehmet, son bakiyeniz: 1270\n"
     ]
    }
   ],
   "source": [
    "class BankAccount(object):\n",
    "    def __init__(self, name, money, address):\n",
    "        self.name = name  # global\n",
    "        self.__money = money  # private\n",
    "        self.address = address\n",
    "\n",
    "    def get_money(self):\n",
    "        return self.__money\n",
    "\n",
    "    def set_money(self, amount):\n",
    "        if amount < 0:\n",
    "            print(\"Hata: Para miktarı negatif olamaz.\")\n",
    "        else:\n",
    "            self.__money = amount\n",
    "\n",
    "    def deposit(self, amount):\n",
    "        if amount > 0:\n",
    "            self.__money += amount\n",
    "            print(f\"{amount} miktarında para yatırıldı. Yeni bakiye: {self.__money}\")\n",
    "        else:\n",
    "            print(\"Hata: Yatırılacak miktar pozitif olmalıdır.\")\n",
    "\n",
    "    def withdraw(self, amount):\n",
    "        if amount > 0:\n",
    "            if amount <= self.__money:\n",
    "                self.__money -= amount\n",
    "                print(f\"{amount} miktarında para çekildi. Kalan bakiye: {self.__money}\")\n",
    "            else:\n",
    "                print(\"Hata: Yetersiz bakiye.\")\n",
    "        else:\n",
    "            print(\"Hata: Çekilecek miktar pozitif olmalıdır.\")\n",
    "\n",
    "choose=None\n",
    "name=input(\"Lütfen adınızı giriniz:\")\n",
    "money=int(input(\"Lütfen paranızı giriniz\"))\n",
    "address=input(\"Lütfen adresinizi giriniz\")\n",
    "\n",
    "person=BankAccount(name,money,address)\n",
    "while choose!=3:\n",
    "    print(\"[1]Para Çek, [2]Para Yatır, [3]İşlemi Sonlandır\")\n",
    "    choose=int(input(\"Seçim yapınız\"))\n",
    "\n",
    "    if choose==1:\n",
    "        x=int(input(\"çekilecek miktar\"))\n",
    "        person.withdraw(x)\n",
    "        \n",
    "    elif choose == 2:\n",
    "        y = int(input(\"Yatırılacak miktar: \"))\n",
    "        person.deposit(y)\n",
    "    \n",
    "    elif choose == 3:\n",
    "        print(\"İşlem sonlandırıldı.\")\n",
    "    \n",
    "    else:\n",
    "        print(\"Hata: Geçersiz seçim. Lütfen tekrar deneyin.\")\n",
    "\n",
    "print(f\"{person.name}, son bakiyeniz: {person.get_money()}\")"
   ]
  },
  {
   "cell_type": "code",
   "execution_count": null,
   "id": "e87956d5-9f93-44bb-83c5-0030bc179f9b",
   "metadata": {},
   "outputs": [],
   "source": []
  }
 ],
 "metadata": {
  "kernelspec": {
   "display_name": "Python 3 (ipykernel)",
   "language": "python",
   "name": "python3"
  },
  "language_info": {
   "codemirror_mode": {
    "name": "ipython",
    "version": 3
   },
   "file_extension": ".py",
   "mimetype": "text/x-python",
   "name": "python",
   "nbconvert_exporter": "python",
   "pygments_lexer": "ipython3",
   "version": "3.12.4"
  }
 },
 "nbformat": 4,
 "nbformat_minor": 5
}
